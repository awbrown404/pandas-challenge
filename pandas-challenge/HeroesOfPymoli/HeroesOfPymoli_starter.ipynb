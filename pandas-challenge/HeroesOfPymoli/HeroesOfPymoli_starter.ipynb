{
 "cells": [
  {
   "cell_type": "markdown",
   "metadata": {},
   "source": [
    "### Note\n",
    "* Instructions have been included for each segment. You do not have to follow them exactly, but they are included to help you think through the steps."
   ]
  },
  {
   "cell_type": "code",
   "execution_count": 1,
   "metadata": {},
   "outputs": [
    {
     "data": {
      "text/html": [
       "<div>\n",
       "<style scoped>\n",
       "    .dataframe tbody tr th:only-of-type {\n",
       "        vertical-align: middle;\n",
       "    }\n",
       "\n",
       "    .dataframe tbody tr th {\n",
       "        vertical-align: top;\n",
       "    }\n",
       "\n",
       "    .dataframe thead th {\n",
       "        text-align: right;\n",
       "    }\n",
       "</style>\n",
       "<table border=\"1\" class=\"dataframe\">\n",
       "  <thead>\n",
       "    <tr style=\"text-align: right;\">\n",
       "      <th></th>\n",
       "      <th>Purchase ID</th>\n",
       "      <th>SN</th>\n",
       "      <th>Age</th>\n",
       "      <th>Gender</th>\n",
       "      <th>Item ID</th>\n",
       "      <th>Item Name</th>\n",
       "      <th>Price</th>\n",
       "    </tr>\n",
       "  </thead>\n",
       "  <tbody>\n",
       "    <tr>\n",
       "      <td>0</td>\n",
       "      <td>0</td>\n",
       "      <td>Lisim78</td>\n",
       "      <td>20</td>\n",
       "      <td>Male</td>\n",
       "      <td>108</td>\n",
       "      <td>Extraction, Quickblade Of Trembling Hands</td>\n",
       "      <td>3.53</td>\n",
       "    </tr>\n",
       "    <tr>\n",
       "      <td>1</td>\n",
       "      <td>1</td>\n",
       "      <td>Lisovynya38</td>\n",
       "      <td>40</td>\n",
       "      <td>Male</td>\n",
       "      <td>143</td>\n",
       "      <td>Frenzied Scimitar</td>\n",
       "      <td>1.56</td>\n",
       "    </tr>\n",
       "    <tr>\n",
       "      <td>2</td>\n",
       "      <td>2</td>\n",
       "      <td>Ithergue48</td>\n",
       "      <td>24</td>\n",
       "      <td>Male</td>\n",
       "      <td>92</td>\n",
       "      <td>Final Critic</td>\n",
       "      <td>4.88</td>\n",
       "    </tr>\n",
       "    <tr>\n",
       "      <td>3</td>\n",
       "      <td>3</td>\n",
       "      <td>Chamassasya86</td>\n",
       "      <td>24</td>\n",
       "      <td>Male</td>\n",
       "      <td>100</td>\n",
       "      <td>Blindscythe</td>\n",
       "      <td>3.27</td>\n",
       "    </tr>\n",
       "    <tr>\n",
       "      <td>4</td>\n",
       "      <td>4</td>\n",
       "      <td>Iskosia90</td>\n",
       "      <td>23</td>\n",
       "      <td>Male</td>\n",
       "      <td>131</td>\n",
       "      <td>Fury</td>\n",
       "      <td>1.44</td>\n",
       "    </tr>\n",
       "  </tbody>\n",
       "</table>\n",
       "</div>"
      ],
      "text/plain": [
       "   Purchase ID             SN  Age Gender  Item ID  \\\n",
       "0            0        Lisim78   20   Male      108   \n",
       "1            1    Lisovynya38   40   Male      143   \n",
       "2            2     Ithergue48   24   Male       92   \n",
       "3            3  Chamassasya86   24   Male      100   \n",
       "4            4      Iskosia90   23   Male      131   \n",
       "\n",
       "                                   Item Name  Price  \n",
       "0  Extraction, Quickblade Of Trembling Hands   3.53  \n",
       "1                          Frenzied Scimitar   1.56  \n",
       "2                               Final Critic   4.88  \n",
       "3                                Blindscythe   3.27  \n",
       "4                                       Fury   1.44  "
      ]
     },
     "execution_count": 1,
     "metadata": {},
     "output_type": "execute_result"
    }
   ],
   "source": [
    "# Dependencies and Setup\n",
    "import pandas as pd\n",
    "import numpy as np\n",
    "\n",
    "# File to Load (Remember to Change These)\n",
    "file_to_load = \"Resources/purchase_data.csv\"\n",
    "\n",
    "# Read Purchasing File and store into Pandas data frame\n",
    "purchase_data = pd.read_csv(file_to_load)\n",
    "purchase_data.head()"
   ]
  },
  {
   "cell_type": "markdown",
   "metadata": {},
   "source": [
    "## Player Count"
   ]
  },
  {
   "cell_type": "markdown",
   "metadata": {},
   "source": [
    "* Display the total number of players\n"
   ]
  },
  {
   "cell_type": "code",
   "execution_count": 2,
   "metadata": {},
   "outputs": [
    {
     "data": {
      "text/html": [
       "<div>\n",
       "<style scoped>\n",
       "    .dataframe tbody tr th:only-of-type {\n",
       "        vertical-align: middle;\n",
       "    }\n",
       "\n",
       "    .dataframe tbody tr th {\n",
       "        vertical-align: top;\n",
       "    }\n",
       "\n",
       "    .dataframe thead th {\n",
       "        text-align: right;\n",
       "    }\n",
       "</style>\n",
       "<table border=\"1\" class=\"dataframe\">\n",
       "  <thead>\n",
       "    <tr style=\"text-align: right;\">\n",
       "      <th></th>\n",
       "      <th>Total Players</th>\n",
       "    </tr>\n",
       "  </thead>\n",
       "  <tbody>\n",
       "    <tr>\n",
       "      <td>0</td>\n",
       "      <td>576</td>\n",
       "    </tr>\n",
       "  </tbody>\n",
       "</table>\n",
       "</div>"
      ],
      "text/plain": [
       "   Total Players\n",
       "0            576"
      ]
     },
     "execution_count": 2,
     "metadata": {},
     "output_type": "execute_result"
    }
   ],
   "source": [
    "total_players = purchase_data[\"SN\"].value_counts().count()\n",
    "total_players_df = pd.DataFrame({\"Total Players\" : [total_players]})\n",
    "total_players_df"
   ]
  },
  {
   "cell_type": "markdown",
   "metadata": {},
   "source": [
    "## Purchasing Analysis (Total)"
   ]
  },
  {
   "cell_type": "markdown",
   "metadata": {},
   "source": [
    "* Run basic calculations to obtain number of unique items, average price, etc.\n",
    "\n",
    "\n",
    "* Create a summary data frame to hold the results\n",
    "\n",
    "\n",
    "* Optional: give the displayed data cleaner formatting\n",
    "\n",
    "\n",
    "* Display the summary data frame\n"
   ]
  },
  {
   "cell_type": "code",
   "execution_count": 3,
   "metadata": {
    "scrolled": true
   },
   "outputs": [
    {
     "data": {
      "text/html": [
       "<style  type=\"text/css\" >\n",
       "</style><table id=\"T_103f5ff4_2465_11ea_8517_c4b3018fdad2\" ><thead>    <tr>        <th class=\"blank level0\" ></th>        <th class=\"col_heading level0 col0\" >Number of Unique Items</th>        <th class=\"col_heading level0 col1\" >Total Revenue</th>        <th class=\"col_heading level0 col2\" >Total Purchases</th>        <th class=\"col_heading level0 col3\" >Average Purchase</th>    </tr></thead><tbody>\n",
       "                <tr>\n",
       "                        <th id=\"T_103f5ff4_2465_11ea_8517_c4b3018fdad2level0_row0\" class=\"row_heading level0 row0\" >0</th>\n",
       "                        <td id=\"T_103f5ff4_2465_11ea_8517_c4b3018fdad2row0_col0\" class=\"data row0 col0\" >179</td>\n",
       "                        <td id=\"T_103f5ff4_2465_11ea_8517_c4b3018fdad2row0_col1\" class=\"data row0 col1\" >$2,379.77</td>\n",
       "                        <td id=\"T_103f5ff4_2465_11ea_8517_c4b3018fdad2row0_col2\" class=\"data row0 col2\" >780</td>\n",
       "                        <td id=\"T_103f5ff4_2465_11ea_8517_c4b3018fdad2row0_col3\" class=\"data row0 col3\" >$3.05</td>\n",
       "            </tr>\n",
       "    </tbody></table>"
      ],
      "text/plain": [
       "<pandas.io.formats.style.Styler at 0x118c18990>"
      ]
     },
     "execution_count": 3,
     "metadata": {},
     "output_type": "execute_result"
    }
   ],
   "source": [
    "unique_values = purchase_data[\"Item Name\"].value_counts().count()\n",
    "total_revenue = purchase_data[\"Price\"].sum()\n",
    "total_purchases = purchase_data[\"Purchase ID\"].count()\n",
    "avg_purchase = (purchase_data[\"Price\"].sum())/(purchase_data[\"Purchase ID\"].count()) \n",
    "purchasing_analysis_df = pd.DataFrame([[unique_values, total_revenue, total_purchases, avg_purchase]],\n",
    "                                      columns=[\"Number of Unique Items\", \"Total Revenue\", \"Total Purchases\", \"Average Purchase\"])                                \n",
    "\n",
    "purchasing_analysis_df.style.format({'Average Purchase':\"${:,.2f}\",\n",
    "                                    'Total Revenue': \"${:,.2f}\"})"
   ]
  },
  {
   "cell_type": "markdown",
   "metadata": {},
   "source": [
    "## Gender Demographics"
   ]
  },
  {
   "cell_type": "markdown",
   "metadata": {},
   "source": [
    "* Percentage and Count of Male Players\n",
    "\n",
    "\n",
    "* Percentage and Count of Female Players\n",
    "\n",
    "\n",
    "* Percentage and Count of Other / Non-Disclosed\n",
    "\n",
    "\n"
   ]
  },
  {
   "cell_type": "code",
   "execution_count": 4,
   "metadata": {},
   "outputs": [
    {
     "data": {
      "text/html": [
       "<style  type=\"text/css\" >\n",
       "</style><table id=\"T_17079b4e_2465_11ea_8517_c4b3018fdad2\" ><thead>    <tr>        <th class=\"blank level0\" ></th>        <th class=\"col_heading level0 col0\" >Percentage of Players</th>        <th class=\"col_heading level0 col1\" >Total Count</th>    </tr>    <tr>        <th class=\"index_name level0\" >Gender</th>        <th class=\"blank\" ></th>        <th class=\"blank\" ></th>    </tr></thead><tbody>\n",
       "                <tr>\n",
       "                        <th id=\"T_17079b4e_2465_11ea_8517_c4b3018fdad2level0_row0\" class=\"row_heading level0 row0\" >Male</th>\n",
       "                        <td id=\"T_17079b4e_2465_11ea_8517_c4b3018fdad2row0_col0\" class=\"data row0 col0\" >84.03</td>\n",
       "                        <td id=\"T_17079b4e_2465_11ea_8517_c4b3018fdad2row0_col1\" class=\"data row0 col1\" >484</td>\n",
       "            </tr>\n",
       "            <tr>\n",
       "                        <th id=\"T_17079b4e_2465_11ea_8517_c4b3018fdad2level0_row1\" class=\"row_heading level0 row1\" >Female</th>\n",
       "                        <td id=\"T_17079b4e_2465_11ea_8517_c4b3018fdad2row1_col0\" class=\"data row1 col0\" >14.06</td>\n",
       "                        <td id=\"T_17079b4e_2465_11ea_8517_c4b3018fdad2row1_col1\" class=\"data row1 col1\" >81</td>\n",
       "            </tr>\n",
       "            <tr>\n",
       "                        <th id=\"T_17079b4e_2465_11ea_8517_c4b3018fdad2level0_row2\" class=\"row_heading level0 row2\" >Other / Non-Disclosed</th>\n",
       "                        <td id=\"T_17079b4e_2465_11ea_8517_c4b3018fdad2row2_col0\" class=\"data row2 col0\" >1.91</td>\n",
       "                        <td id=\"T_17079b4e_2465_11ea_8517_c4b3018fdad2row2_col1\" class=\"data row2 col1\" >11</td>\n",
       "            </tr>\n",
       "    </tbody></table>"
      ],
      "text/plain": [
       "<pandas.io.formats.style.Styler at 0x11a1c8e10>"
      ]
     },
     "execution_count": 4,
     "metadata": {},
     "output_type": "execute_result"
    }
   ],
   "source": [
    "groupby_gender = purchase_data.groupby(\"Gender\")\n",
    "total_gender = groupby_gender.nunique()[\"SN\"]\n",
    "percentage_gender = (total_gender / total_players)*100\n",
    "gender_demographics_df = pd.DataFrame({\"Percentage of Players\": percentage_gender, \n",
    "                                      \"Total Count\": total_gender})\n",
    "gender_demographics_df.sort_values([\"Total Count\"], ascending=False).style.format({\"Percentage of Players\":\"{:.2f}\"})"
   ]
  },
  {
   "cell_type": "markdown",
   "metadata": {},
   "source": [
    "\n",
    "## Purchasing Analysis (Gender)"
   ]
  },
  {
   "cell_type": "markdown",
   "metadata": {},
   "source": [
    "* Run basic calculations to obtain purchase count, avg. purchase price, avg. purchase total per person etc. by gender\n",
    "\n",
    "\n",
    "\n",
    "\n",
    "* Create a summary data frame to hold the results\n",
    "\n",
    "\n",
    "* Optional: give the displayed data cleaner formatting\n",
    "\n",
    "\n",
    "* Display the summary data frame"
   ]
  },
  {
   "cell_type": "code",
   "execution_count": 5,
   "metadata": {},
   "outputs": [
    {
     "data": {
      "text/html": [
       "<style  type=\"text/css\" >\n",
       "</style><table id=\"T_18d0f9e8_2465_11ea_8517_c4b3018fdad2\" ><thead>    <tr>        <th class=\"blank level0\" ></th>        <th class=\"col_heading level0 col0\" >Purchase Count</th>        <th class=\"col_heading level0 col1\" >Purchase Price</th>        <th class=\"col_heading level0 col2\" >Total Purchase Value</th>        <th class=\"col_heading level0 col3\" >Average Purchase Total per Person</th>    </tr>    <tr>        <th class=\"index_name level0\" >Gender</th>        <th class=\"blank\" ></th>        <th class=\"blank\" ></th>        <th class=\"blank\" ></th>        <th class=\"blank\" ></th>    </tr></thead><tbody>\n",
       "                <tr>\n",
       "                        <th id=\"T_18d0f9e8_2465_11ea_8517_c4b3018fdad2level0_row0\" class=\"row_heading level0 row0\" >Female</th>\n",
       "                        <td id=\"T_18d0f9e8_2465_11ea_8517_c4b3018fdad2row0_col0\" class=\"data row0 col0\" >113</td>\n",
       "                        <td id=\"T_18d0f9e8_2465_11ea_8517_c4b3018fdad2row0_col1\" class=\"data row0 col1\" >$3.20</td>\n",
       "                        <td id=\"T_18d0f9e8_2465_11ea_8517_c4b3018fdad2row0_col2\" class=\"data row0 col2\" >$361.94</td>\n",
       "                        <td id=\"T_18d0f9e8_2465_11ea_8517_c4b3018fdad2row0_col3\" class=\"data row0 col3\" >$4.47</td>\n",
       "            </tr>\n",
       "            <tr>\n",
       "                        <th id=\"T_18d0f9e8_2465_11ea_8517_c4b3018fdad2level0_row1\" class=\"row_heading level0 row1\" >Male</th>\n",
       "                        <td id=\"T_18d0f9e8_2465_11ea_8517_c4b3018fdad2row1_col0\" class=\"data row1 col0\" >652</td>\n",
       "                        <td id=\"T_18d0f9e8_2465_11ea_8517_c4b3018fdad2row1_col1\" class=\"data row1 col1\" >$3.02</td>\n",
       "                        <td id=\"T_18d0f9e8_2465_11ea_8517_c4b3018fdad2row1_col2\" class=\"data row1 col2\" >$1,967.64</td>\n",
       "                        <td id=\"T_18d0f9e8_2465_11ea_8517_c4b3018fdad2row1_col3\" class=\"data row1 col3\" >$4.07</td>\n",
       "            </tr>\n",
       "            <tr>\n",
       "                        <th id=\"T_18d0f9e8_2465_11ea_8517_c4b3018fdad2level0_row2\" class=\"row_heading level0 row2\" >Other / Non-Disclosed</th>\n",
       "                        <td id=\"T_18d0f9e8_2465_11ea_8517_c4b3018fdad2row2_col0\" class=\"data row2 col0\" >15</td>\n",
       "                        <td id=\"T_18d0f9e8_2465_11ea_8517_c4b3018fdad2row2_col1\" class=\"data row2 col1\" >$3.35</td>\n",
       "                        <td id=\"T_18d0f9e8_2465_11ea_8517_c4b3018fdad2row2_col2\" class=\"data row2 col2\" >$50.19</td>\n",
       "                        <td id=\"T_18d0f9e8_2465_11ea_8517_c4b3018fdad2row2_col3\" class=\"data row2 col3\" >$4.56</td>\n",
       "            </tr>\n",
       "    </tbody></table>"
      ],
      "text/plain": [
       "<pandas.io.formats.style.Styler at 0x11a1daf10>"
      ]
     },
     "execution_count": 5,
     "metadata": {},
     "output_type": "execute_result"
    }
   ],
   "source": [
    "purchase_count_gender = groupby_gender[\"Purchase ID\"].count()\n",
    "avg_purchase_price = groupby_gender[\"Price\"].mean()\n",
    "purchase_total = groupby_gender[\"Price\"].sum()\n",
    "avg_purchase_total_person = purchase_total / total_gender \n",
    "\n",
    "gender_purchasing_df = pd.DataFrame({\"Purchase Count\": purchase_count_gender,\n",
    "                                    \"Purchase Price\": avg_purchase_price, \n",
    "                                    \"Total Purchase Value\": purchase_total,\n",
    "                                    \"Average Purchase Total per Person\": avg_purchase_total_person})\n",
    "\n",
    "gender_purchasing_df.style.format({\"Purchase Price\":\"${:,.2f}\",\n",
    "                                  \"Total Purchase Value\":\"${:,.2f}\",\n",
    "                                  \"Average Purchase Total per Person\": \"${:,.2f}\"})\n"
   ]
  },
  {
   "cell_type": "markdown",
   "metadata": {},
   "source": [
    "## Age Demographics"
   ]
  },
  {
   "cell_type": "markdown",
   "metadata": {},
   "source": [
    "* Establish bins for ages\n",
    "\n",
    "\n",
    "* Categorize the existing players using the age bins. Hint: use pd.cut()\n",
    "\n",
    "\n",
    "* Calculate the numbers and percentages by age group\n",
    "\n",
    "\n",
    "* Create a summary data frame to hold the results\n",
    "\n",
    "\n",
    "* Optional: round the percentage column to two decimal points\n",
    "\n",
    "\n",
    "* Display Age Demographics Table\n"
   ]
  },
  {
   "cell_type": "code",
   "execution_count": 6,
   "metadata": {},
   "outputs": [
    {
     "data": {
      "text/html": [
       "<style  type=\"text/css\" >\n",
       "</style><table id=\"T_1b0d5f80_2465_11ea_8517_c4b3018fdad2\" ><thead>    <tr>        <th class=\"blank level0\" ></th>        <th class=\"col_heading level0 col0\" >Total Count</th>        <th class=\"col_heading level0 col1\" >Percentage of Players</th>    </tr>    <tr>        <th class=\"index_name level0\" >Age Group</th>        <th class=\"blank\" ></th>        <th class=\"blank\" ></th>    </tr></thead><tbody>\n",
       "                <tr>\n",
       "                        <th id=\"T_1b0d5f80_2465_11ea_8517_c4b3018fdad2level0_row0\" class=\"row_heading level0 row0\" ><10</th>\n",
       "                        <td id=\"T_1b0d5f80_2465_11ea_8517_c4b3018fdad2row0_col0\" class=\"data row0 col0\" >17</td>\n",
       "                        <td id=\"T_1b0d5f80_2465_11ea_8517_c4b3018fdad2row0_col1\" class=\"data row0 col1\" >2.95</td>\n",
       "            </tr>\n",
       "            <tr>\n",
       "                        <th id=\"T_1b0d5f80_2465_11ea_8517_c4b3018fdad2level0_row1\" class=\"row_heading level0 row1\" >10-14</th>\n",
       "                        <td id=\"T_1b0d5f80_2465_11ea_8517_c4b3018fdad2row1_col0\" class=\"data row1 col0\" >22</td>\n",
       "                        <td id=\"T_1b0d5f80_2465_11ea_8517_c4b3018fdad2row1_col1\" class=\"data row1 col1\" >3.82</td>\n",
       "            </tr>\n",
       "            <tr>\n",
       "                        <th id=\"T_1b0d5f80_2465_11ea_8517_c4b3018fdad2level0_row2\" class=\"row_heading level0 row2\" >15-19</th>\n",
       "                        <td id=\"T_1b0d5f80_2465_11ea_8517_c4b3018fdad2row2_col0\" class=\"data row2 col0\" >107</td>\n",
       "                        <td id=\"T_1b0d5f80_2465_11ea_8517_c4b3018fdad2row2_col1\" class=\"data row2 col1\" >18.58</td>\n",
       "            </tr>\n",
       "            <tr>\n",
       "                        <th id=\"T_1b0d5f80_2465_11ea_8517_c4b3018fdad2level0_row3\" class=\"row_heading level0 row3\" >20-24</th>\n",
       "                        <td id=\"T_1b0d5f80_2465_11ea_8517_c4b3018fdad2row3_col0\" class=\"data row3 col0\" >258</td>\n",
       "                        <td id=\"T_1b0d5f80_2465_11ea_8517_c4b3018fdad2row3_col1\" class=\"data row3 col1\" >44.79</td>\n",
       "            </tr>\n",
       "            <tr>\n",
       "                        <th id=\"T_1b0d5f80_2465_11ea_8517_c4b3018fdad2level0_row4\" class=\"row_heading level0 row4\" >25-29</th>\n",
       "                        <td id=\"T_1b0d5f80_2465_11ea_8517_c4b3018fdad2row4_col0\" class=\"data row4 col0\" >77</td>\n",
       "                        <td id=\"T_1b0d5f80_2465_11ea_8517_c4b3018fdad2row4_col1\" class=\"data row4 col1\" >13.37</td>\n",
       "            </tr>\n",
       "            <tr>\n",
       "                        <th id=\"T_1b0d5f80_2465_11ea_8517_c4b3018fdad2level0_row5\" class=\"row_heading level0 row5\" >30-34</th>\n",
       "                        <td id=\"T_1b0d5f80_2465_11ea_8517_c4b3018fdad2row5_col0\" class=\"data row5 col0\" >52</td>\n",
       "                        <td id=\"T_1b0d5f80_2465_11ea_8517_c4b3018fdad2row5_col1\" class=\"data row5 col1\" >9.03</td>\n",
       "            </tr>\n",
       "            <tr>\n",
       "                        <th id=\"T_1b0d5f80_2465_11ea_8517_c4b3018fdad2level0_row6\" class=\"row_heading level0 row6\" >35-39</th>\n",
       "                        <td id=\"T_1b0d5f80_2465_11ea_8517_c4b3018fdad2row6_col0\" class=\"data row6 col0\" >31</td>\n",
       "                        <td id=\"T_1b0d5f80_2465_11ea_8517_c4b3018fdad2row6_col1\" class=\"data row6 col1\" >5.38</td>\n",
       "            </tr>\n",
       "            <tr>\n",
       "                        <th id=\"T_1b0d5f80_2465_11ea_8517_c4b3018fdad2level0_row7\" class=\"row_heading level0 row7\" >40+</th>\n",
       "                        <td id=\"T_1b0d5f80_2465_11ea_8517_c4b3018fdad2row7_col0\" class=\"data row7 col0\" >12</td>\n",
       "                        <td id=\"T_1b0d5f80_2465_11ea_8517_c4b3018fdad2row7_col1\" class=\"data row7 col1\" >2.08</td>\n",
       "            </tr>\n",
       "    </tbody></table>"
      ],
      "text/plain": [
       "<pandas.io.formats.style.Styler at 0x1198bdd10>"
      ]
     },
     "execution_count": 6,
     "metadata": {},
     "output_type": "execute_result"
    }
   ],
   "source": [
    "age_bins = [0, 9.99, 14.99, 19.99, 24.99, 29.99, 34.99, 39.99, 1000]\n",
    "names = [\"<10\", \"10-14\", \"15-19\", \"20-24\", \"25-29\", \"30-34\", \"35-39\", \"40+\"]\n",
    "\n",
    "purchase_data[\"Age Group\"] = pd.cut(purchase_data[\"Age\"], age_bins, labels=names)\n",
    "\n",
    "age_grouped = purchase_data.groupby(\"Age Group\")\n",
    "\n",
    "age_total_count = age_grouped[\"SN\"].nunique()\n",
    "\n",
    "age_percentage = (age_total_count / total_players)*100\n",
    "\n",
    "age_demographics_df = pd.DataFrame({\"Total Count\": age_total_count,\n",
    "                                    \"Percentage of Players\": age_percentage})\n",
    "age_demographics_df.style.format({\"Percentage of Players\":\"{:.2f}\"})"
   ]
  },
  {
   "cell_type": "markdown",
   "metadata": {},
   "source": [
    "## Purchasing Analysis (Age)"
   ]
  },
  {
   "cell_type": "markdown",
   "metadata": {},
   "source": [
    "* Bin the purchase_data data frame by age\n",
    "\n",
    "\n",
    "* Run basic calculations to obtain purchase count, avg. purchase price, avg. purchase total per person etc. in the table below\n",
    "\n",
    "\n",
    "* Create a summary data frame to hold the results\n",
    "\n",
    "\n",
    "* Optional: give the displayed data cleaner formatting\n",
    "\n",
    "\n",
    "* Display the summary data frame"
   ]
  },
  {
   "cell_type": "code",
   "execution_count": 7,
   "metadata": {},
   "outputs": [
    {
     "data": {
      "text/html": [
       "<style  type=\"text/css\" >\n",
       "</style><table id=\"T_1cd0431e_2465_11ea_8517_c4b3018fdad2\" ><thead>    <tr>        <th class=\"blank level0\" ></th>        <th class=\"col_heading level0 col0\" >Purchase Count</th>        <th class=\"col_heading level0 col1\" >Average Purchase Price</th>        <th class=\"col_heading level0 col2\" >Total Purchase Value</th>        <th class=\"col_heading level0 col3\" >Average Purchase Total per Person</th>    </tr>    <tr>        <th class=\"index_name level0\" >Age Group</th>        <th class=\"blank\" ></th>        <th class=\"blank\" ></th>        <th class=\"blank\" ></th>        <th class=\"blank\" ></th>    </tr></thead><tbody>\n",
       "                <tr>\n",
       "                        <th id=\"T_1cd0431e_2465_11ea_8517_c4b3018fdad2level0_row0\" class=\"row_heading level0 row0\" ><10</th>\n",
       "                        <td id=\"T_1cd0431e_2465_11ea_8517_c4b3018fdad2row0_col0\" class=\"data row0 col0\" >23</td>\n",
       "                        <td id=\"T_1cd0431e_2465_11ea_8517_c4b3018fdad2row0_col1\" class=\"data row0 col1\" >$3.35</td>\n",
       "                        <td id=\"T_1cd0431e_2465_11ea_8517_c4b3018fdad2row0_col2\" class=\"data row0 col2\" >$77.13</td>\n",
       "                        <td id=\"T_1cd0431e_2465_11ea_8517_c4b3018fdad2row0_col3\" class=\"data row0 col3\" >$4.54</td>\n",
       "            </tr>\n",
       "            <tr>\n",
       "                        <th id=\"T_1cd0431e_2465_11ea_8517_c4b3018fdad2level0_row1\" class=\"row_heading level0 row1\" >10-14</th>\n",
       "                        <td id=\"T_1cd0431e_2465_11ea_8517_c4b3018fdad2row1_col0\" class=\"data row1 col0\" >28</td>\n",
       "                        <td id=\"T_1cd0431e_2465_11ea_8517_c4b3018fdad2row1_col1\" class=\"data row1 col1\" >$2.96</td>\n",
       "                        <td id=\"T_1cd0431e_2465_11ea_8517_c4b3018fdad2row1_col2\" class=\"data row1 col2\" >$82.78</td>\n",
       "                        <td id=\"T_1cd0431e_2465_11ea_8517_c4b3018fdad2row1_col3\" class=\"data row1 col3\" >$3.76</td>\n",
       "            </tr>\n",
       "            <tr>\n",
       "                        <th id=\"T_1cd0431e_2465_11ea_8517_c4b3018fdad2level0_row2\" class=\"row_heading level0 row2\" >15-19</th>\n",
       "                        <td id=\"T_1cd0431e_2465_11ea_8517_c4b3018fdad2row2_col0\" class=\"data row2 col0\" >136</td>\n",
       "                        <td id=\"T_1cd0431e_2465_11ea_8517_c4b3018fdad2row2_col1\" class=\"data row2 col1\" >$3.04</td>\n",
       "                        <td id=\"T_1cd0431e_2465_11ea_8517_c4b3018fdad2row2_col2\" class=\"data row2 col2\" >$412.89</td>\n",
       "                        <td id=\"T_1cd0431e_2465_11ea_8517_c4b3018fdad2row2_col3\" class=\"data row2 col3\" >$3.86</td>\n",
       "            </tr>\n",
       "            <tr>\n",
       "                        <th id=\"T_1cd0431e_2465_11ea_8517_c4b3018fdad2level0_row3\" class=\"row_heading level0 row3\" >20-24</th>\n",
       "                        <td id=\"T_1cd0431e_2465_11ea_8517_c4b3018fdad2row3_col0\" class=\"data row3 col0\" >365</td>\n",
       "                        <td id=\"T_1cd0431e_2465_11ea_8517_c4b3018fdad2row3_col1\" class=\"data row3 col1\" >$3.05</td>\n",
       "                        <td id=\"T_1cd0431e_2465_11ea_8517_c4b3018fdad2row3_col2\" class=\"data row3 col2\" >$1,114.06</td>\n",
       "                        <td id=\"T_1cd0431e_2465_11ea_8517_c4b3018fdad2row3_col3\" class=\"data row3 col3\" >$4.32</td>\n",
       "            </tr>\n",
       "            <tr>\n",
       "                        <th id=\"T_1cd0431e_2465_11ea_8517_c4b3018fdad2level0_row4\" class=\"row_heading level0 row4\" >25-29</th>\n",
       "                        <td id=\"T_1cd0431e_2465_11ea_8517_c4b3018fdad2row4_col0\" class=\"data row4 col0\" >101</td>\n",
       "                        <td id=\"T_1cd0431e_2465_11ea_8517_c4b3018fdad2row4_col1\" class=\"data row4 col1\" >$2.90</td>\n",
       "                        <td id=\"T_1cd0431e_2465_11ea_8517_c4b3018fdad2row4_col2\" class=\"data row4 col2\" >$293.00</td>\n",
       "                        <td id=\"T_1cd0431e_2465_11ea_8517_c4b3018fdad2row4_col3\" class=\"data row4 col3\" >$3.81</td>\n",
       "            </tr>\n",
       "            <tr>\n",
       "                        <th id=\"T_1cd0431e_2465_11ea_8517_c4b3018fdad2level0_row5\" class=\"row_heading level0 row5\" >30-34</th>\n",
       "                        <td id=\"T_1cd0431e_2465_11ea_8517_c4b3018fdad2row5_col0\" class=\"data row5 col0\" >73</td>\n",
       "                        <td id=\"T_1cd0431e_2465_11ea_8517_c4b3018fdad2row5_col1\" class=\"data row5 col1\" >$2.93</td>\n",
       "                        <td id=\"T_1cd0431e_2465_11ea_8517_c4b3018fdad2row5_col2\" class=\"data row5 col2\" >$214.00</td>\n",
       "                        <td id=\"T_1cd0431e_2465_11ea_8517_c4b3018fdad2row5_col3\" class=\"data row5 col3\" >$4.12</td>\n",
       "            </tr>\n",
       "            <tr>\n",
       "                        <th id=\"T_1cd0431e_2465_11ea_8517_c4b3018fdad2level0_row6\" class=\"row_heading level0 row6\" >35-39</th>\n",
       "                        <td id=\"T_1cd0431e_2465_11ea_8517_c4b3018fdad2row6_col0\" class=\"data row6 col0\" >41</td>\n",
       "                        <td id=\"T_1cd0431e_2465_11ea_8517_c4b3018fdad2row6_col1\" class=\"data row6 col1\" >$3.60</td>\n",
       "                        <td id=\"T_1cd0431e_2465_11ea_8517_c4b3018fdad2row6_col2\" class=\"data row6 col2\" >$147.67</td>\n",
       "                        <td id=\"T_1cd0431e_2465_11ea_8517_c4b3018fdad2row6_col3\" class=\"data row6 col3\" >$4.76</td>\n",
       "            </tr>\n",
       "            <tr>\n",
       "                        <th id=\"T_1cd0431e_2465_11ea_8517_c4b3018fdad2level0_row7\" class=\"row_heading level0 row7\" >40+</th>\n",
       "                        <td id=\"T_1cd0431e_2465_11ea_8517_c4b3018fdad2row7_col0\" class=\"data row7 col0\" >13</td>\n",
       "                        <td id=\"T_1cd0431e_2465_11ea_8517_c4b3018fdad2row7_col1\" class=\"data row7 col1\" >$2.94</td>\n",
       "                        <td id=\"T_1cd0431e_2465_11ea_8517_c4b3018fdad2row7_col2\" class=\"data row7 col2\" >$38.24</td>\n",
       "                        <td id=\"T_1cd0431e_2465_11ea_8517_c4b3018fdad2row7_col3\" class=\"data row7 col3\" >$3.19</td>\n",
       "            </tr>\n",
       "    </tbody></table>"
      ],
      "text/plain": [
       "<pandas.io.formats.style.Styler at 0x119660590>"
      ]
     },
     "execution_count": 7,
     "metadata": {},
     "output_type": "execute_result"
    }
   ],
   "source": [
    "age_purchase_count = age_grouped[\"Purchase ID\"].count()\n",
    "age_avg_purchase_price = age_grouped[\"Price\"].mean()\n",
    "age_purchase_total = age_grouped[\"Price\"].sum()\n",
    "avg_purchase_total_person = age_purchase_total / age_total_count\n",
    "\n",
    "age_purchasing_df = pd.DataFrame({\"Purchase Count\": age_purchase_count,\n",
    "                                 \"Average Purchase Price\": age_avg_purchase_price,\n",
    "                                 \"Total Purchase Value\": age_purchase_total,\n",
    "                                 \"Average Purchase Total per Person\": avg_purchase_total_person})\n",
    "age_purchasing_df.style.format({\"Average Purchase Price\":\"${:,.2f}\", \n",
    "                               \"Total Purchase Value\":\"${:,.2f}\",\n",
    "                               \"Average Purchase Total per Person\": \"${:,.2f}\"})"
   ]
  },
  {
   "cell_type": "markdown",
   "metadata": {},
   "source": [
    "## Top Spenders"
   ]
  },
  {
   "cell_type": "markdown",
   "metadata": {},
   "source": [
    "* Run basic calculations to obtain the results in the table below\n",
    "\n",
    "\n",
    "* Create a summary data frame to hold the results\n",
    "\n",
    "\n",
    "* Sort the total purchase value column in descending order\n",
    "\n",
    "\n",
    "* Optional: give the displayed data cleaner formatting\n",
    "\n",
    "\n",
    "* Display a preview of the summary data frame\n",
    "\n"
   ]
  },
  {
   "cell_type": "code",
   "execution_count": 8,
   "metadata": {},
   "outputs": [
    {
     "data": {
      "text/html": [
       "<style  type=\"text/css\" >\n",
       "</style><table id=\"T_1ed576c0_2465_11ea_8517_c4b3018fdad2\" ><thead>    <tr>        <th class=\"blank level0\" ></th>        <th class=\"col_heading level0 col0\" >Purchase Count</th>        <th class=\"col_heading level0 col1\" >Average Purchase Cost</th>        <th class=\"col_heading level0 col2\" >Total Purchase Value</th>    </tr>    <tr>        <th class=\"index_name level0\" >SN</th>        <th class=\"blank\" ></th>        <th class=\"blank\" ></th>        <th class=\"blank\" ></th>    </tr></thead><tbody>\n",
       "                <tr>\n",
       "                        <th id=\"T_1ed576c0_2465_11ea_8517_c4b3018fdad2level0_row0\" class=\"row_heading level0 row0\" >Lisosia93</th>\n",
       "                        <td id=\"T_1ed576c0_2465_11ea_8517_c4b3018fdad2row0_col0\" class=\"data row0 col0\" >5</td>\n",
       "                        <td id=\"T_1ed576c0_2465_11ea_8517_c4b3018fdad2row0_col1\" class=\"data row0 col1\" >$3.79</td>\n",
       "                        <td id=\"T_1ed576c0_2465_11ea_8517_c4b3018fdad2row0_col2\" class=\"data row0 col2\" >$18.96</td>\n",
       "            </tr>\n",
       "            <tr>\n",
       "                        <th id=\"T_1ed576c0_2465_11ea_8517_c4b3018fdad2level0_row1\" class=\"row_heading level0 row1\" >Idastidru52</th>\n",
       "                        <td id=\"T_1ed576c0_2465_11ea_8517_c4b3018fdad2row1_col0\" class=\"data row1 col0\" >4</td>\n",
       "                        <td id=\"T_1ed576c0_2465_11ea_8517_c4b3018fdad2row1_col1\" class=\"data row1 col1\" >$3.86</td>\n",
       "                        <td id=\"T_1ed576c0_2465_11ea_8517_c4b3018fdad2row1_col2\" class=\"data row1 col2\" >$15.45</td>\n",
       "            </tr>\n",
       "            <tr>\n",
       "                        <th id=\"T_1ed576c0_2465_11ea_8517_c4b3018fdad2level0_row2\" class=\"row_heading level0 row2\" >Chamjask73</th>\n",
       "                        <td id=\"T_1ed576c0_2465_11ea_8517_c4b3018fdad2row2_col0\" class=\"data row2 col0\" >3</td>\n",
       "                        <td id=\"T_1ed576c0_2465_11ea_8517_c4b3018fdad2row2_col1\" class=\"data row2 col1\" >$4.61</td>\n",
       "                        <td id=\"T_1ed576c0_2465_11ea_8517_c4b3018fdad2row2_col2\" class=\"data row2 col2\" >$13.83</td>\n",
       "            </tr>\n",
       "            <tr>\n",
       "                        <th id=\"T_1ed576c0_2465_11ea_8517_c4b3018fdad2level0_row3\" class=\"row_heading level0 row3\" >Iral74</th>\n",
       "                        <td id=\"T_1ed576c0_2465_11ea_8517_c4b3018fdad2row3_col0\" class=\"data row3 col0\" >4</td>\n",
       "                        <td id=\"T_1ed576c0_2465_11ea_8517_c4b3018fdad2row3_col1\" class=\"data row3 col1\" >$3.40</td>\n",
       "                        <td id=\"T_1ed576c0_2465_11ea_8517_c4b3018fdad2row3_col2\" class=\"data row3 col2\" >$13.62</td>\n",
       "            </tr>\n",
       "            <tr>\n",
       "                        <th id=\"T_1ed576c0_2465_11ea_8517_c4b3018fdad2level0_row4\" class=\"row_heading level0 row4\" >Iskadarya95</th>\n",
       "                        <td id=\"T_1ed576c0_2465_11ea_8517_c4b3018fdad2row4_col0\" class=\"data row4 col0\" >3</td>\n",
       "                        <td id=\"T_1ed576c0_2465_11ea_8517_c4b3018fdad2row4_col1\" class=\"data row4 col1\" >$4.37</td>\n",
       "                        <td id=\"T_1ed576c0_2465_11ea_8517_c4b3018fdad2row4_col2\" class=\"data row4 col2\" >$13.10</td>\n",
       "            </tr>\n",
       "    </tbody></table>"
      ],
      "text/plain": [
       "<pandas.io.formats.style.Styler at 0x11a1ea1d0>"
      ]
     },
     "execution_count": 8,
     "metadata": {},
     "output_type": "execute_result"
    }
   ],
   "source": [
    "spenders_grouped_sn = purchase_data.groupby([\"SN\"])\n",
    "spenders_purchase_count = spenders_grouped_sn[\"Purchase ID\"].count()\n",
    "spenders_avg_purchase_price = spenders_grouped_sn[\"Price\"].mean()\n",
    "spenders_total_purchase_value = spenders_grouped_sn[\"Price\"].sum()\n",
    "\n",
    "top_spenders_df = pd.DataFrame({\"Purchase Count\" : spenders_purchase_count,\n",
    "                                \"Average Purchase Cost\" : spenders_avg_purchase_price,\n",
    "                               \"Total Purchase Value\": spenders_total_purchase_value})\n",
    "\n",
    "top_spenders_formatted = top_spenders_df.sort_values([\"Total Purchase Value\"], ascending = False).head()\n",
    "\n",
    "top_spenders_formatted.style.format({\"Average Purchase Cost\":\"${:,.2f}\",\n",
    "                                    \"Total Purchase Value\":\"${:,.2f}\"})"
   ]
  },
  {
   "cell_type": "markdown",
   "metadata": {},
   "source": [
    "## Most Popular Items"
   ]
  },
  {
   "cell_type": "markdown",
   "metadata": {},
   "source": [
    "* Retrieve the Item ID, Item Name, and Item Price columns\n",
    "\n",
    "\n",
    "* Group by Item ID and Item Name. Perform calculations to obtain purchase count, item price, and total purchase value\n",
    "\n",
    "\n",
    "* Create a summary data frame to hold the results\n",
    "\n",
    "\n",
    "* Sort the purchase count column in descending order\n",
    "\n",
    "\n",
    "* Optional: give the displayed data cleaner formatting\n",
    "\n",
    "\n",
    "* Display a preview of the summary data frame\n",
    "\n"
   ]
  },
  {
   "cell_type": "code",
   "execution_count": 12,
   "metadata": {},
   "outputs": [
    {
     "data": {
      "text/html": [
       "<style  type=\"text/css\" >\n",
       "</style><table id=\"T_58b01e9a_2465_11ea_8517_c4b3018fdad2\" ><thead>    <tr>        <th class=\"blank\" ></th>        <th class=\"blank level0\" ></th>        <th class=\"col_heading level0 col0\" >Purchase Count</th>        <th class=\"col_heading level0 col1\" >Item Price</th>        <th class=\"col_heading level0 col2\" >Total Purchase Value</th>    </tr>    <tr>        <th class=\"index_name level0\" >Item ID</th>        <th class=\"index_name level1\" >Item Name</th>        <th class=\"blank\" ></th>        <th class=\"blank\" ></th>        <th class=\"blank\" ></th>    </tr></thead><tbody>\n",
       "                <tr>\n",
       "                        <th id=\"T_58b01e9a_2465_11ea_8517_c4b3018fdad2level0_row0\" class=\"row_heading level0 row0\" >178</th>\n",
       "                        <th id=\"T_58b01e9a_2465_11ea_8517_c4b3018fdad2level1_row0\" class=\"row_heading level1 row0\" >Oathbreaker, Last Hope of the Breaking Storm</th>\n",
       "                        <td id=\"T_58b01e9a_2465_11ea_8517_c4b3018fdad2row0_col0\" class=\"data row0 col0\" >12</td>\n",
       "                        <td id=\"T_58b01e9a_2465_11ea_8517_c4b3018fdad2row0_col1\" class=\"data row0 col1\" >$4.23</td>\n",
       "                        <td id=\"T_58b01e9a_2465_11ea_8517_c4b3018fdad2row0_col2\" class=\"data row0 col2\" >$50.76</td>\n",
       "            </tr>\n",
       "            <tr>\n",
       "                        <th id=\"T_58b01e9a_2465_11ea_8517_c4b3018fdad2level0_row1\" class=\"row_heading level0 row1\" >145</th>\n",
       "                        <th id=\"T_58b01e9a_2465_11ea_8517_c4b3018fdad2level1_row1\" class=\"row_heading level1 row1\" >Fiery Glass Crusader</th>\n",
       "                        <td id=\"T_58b01e9a_2465_11ea_8517_c4b3018fdad2row1_col0\" class=\"data row1 col0\" >9</td>\n",
       "                        <td id=\"T_58b01e9a_2465_11ea_8517_c4b3018fdad2row1_col1\" class=\"data row1 col1\" >$4.58</td>\n",
       "                        <td id=\"T_58b01e9a_2465_11ea_8517_c4b3018fdad2row1_col2\" class=\"data row1 col2\" >$41.22</td>\n",
       "            </tr>\n",
       "            <tr>\n",
       "                        <th id=\"T_58b01e9a_2465_11ea_8517_c4b3018fdad2level0_row2\" class=\"row_heading level0 row2\" >108</th>\n",
       "                        <th id=\"T_58b01e9a_2465_11ea_8517_c4b3018fdad2level1_row2\" class=\"row_heading level1 row2\" >Extraction, Quickblade Of Trembling Hands</th>\n",
       "                        <td id=\"T_58b01e9a_2465_11ea_8517_c4b3018fdad2row2_col0\" class=\"data row2 col0\" >9</td>\n",
       "                        <td id=\"T_58b01e9a_2465_11ea_8517_c4b3018fdad2row2_col1\" class=\"data row2 col1\" >$3.53</td>\n",
       "                        <td id=\"T_58b01e9a_2465_11ea_8517_c4b3018fdad2row2_col2\" class=\"data row2 col2\" >$31.77</td>\n",
       "            </tr>\n",
       "            <tr>\n",
       "                        <th id=\"T_58b01e9a_2465_11ea_8517_c4b3018fdad2level0_row3\" class=\"row_heading level0 row3\" >82</th>\n",
       "                        <th id=\"T_58b01e9a_2465_11ea_8517_c4b3018fdad2level1_row3\" class=\"row_heading level1 row3\" >Nirvana</th>\n",
       "                        <td id=\"T_58b01e9a_2465_11ea_8517_c4b3018fdad2row3_col0\" class=\"data row3 col0\" >9</td>\n",
       "                        <td id=\"T_58b01e9a_2465_11ea_8517_c4b3018fdad2row3_col1\" class=\"data row3 col1\" >$4.90</td>\n",
       "                        <td id=\"T_58b01e9a_2465_11ea_8517_c4b3018fdad2row3_col2\" class=\"data row3 col2\" >$44.10</td>\n",
       "            </tr>\n",
       "            <tr>\n",
       "                        <th id=\"T_58b01e9a_2465_11ea_8517_c4b3018fdad2level0_row4\" class=\"row_heading level0 row4\" >19</th>\n",
       "                        <th id=\"T_58b01e9a_2465_11ea_8517_c4b3018fdad2level1_row4\" class=\"row_heading level1 row4\" >Pursuit, Cudgel of Necromancy</th>\n",
       "                        <td id=\"T_58b01e9a_2465_11ea_8517_c4b3018fdad2row4_col0\" class=\"data row4 col0\" >8</td>\n",
       "                        <td id=\"T_58b01e9a_2465_11ea_8517_c4b3018fdad2row4_col1\" class=\"data row4 col1\" >$1.02</td>\n",
       "                        <td id=\"T_58b01e9a_2465_11ea_8517_c4b3018fdad2row4_col2\" class=\"data row4 col2\" >$8.16</td>\n",
       "            </tr>\n",
       "    </tbody></table>"
      ],
      "text/plain": [
       "<pandas.io.formats.style.Styler at 0x11a1e54d0>"
      ]
     },
     "execution_count": 12,
     "metadata": {},
     "output_type": "execute_result"
    }
   ],
   "source": [
    "items = purchase_data[[\"Item ID\", \"Item Name\", \"Price\"]]\n",
    "items_grouped = items.groupby([\"Item ID\", \"Item Name\"])\n",
    "item_purchase_count = items_grouped[\"Price\"].count()\n",
    "item_total_value = items_grouped[\"Price\"].sum()\n",
    "item_price = item_total_value / item_purchase_count\n",
    "\n",
    "popular_items_df = pd.DataFrame({\"Purchase Count\": item_purchase_count,\n",
    "                                \"Item Price\": item_price,\n",
    "                                \"Total Purchase Value\": item_total_value})\n",
    "\n",
    "popular_items_formatted = popular_items_df.sort_values([\"Purchase Count\"], ascending = False).head()\n",
    "\n",
    "popular_items_formatted.style.format({\"Item Price\":\"${:,.2f}\",\n",
    "                              \"Total Purchase Value\":\"${:,.2f}\"})"
   ]
  },
  {
   "cell_type": "markdown",
   "metadata": {},
   "source": [
    "## Most Profitable Items"
   ]
  },
  {
   "cell_type": "markdown",
   "metadata": {},
   "source": [
    "* Sort the above table by total purchase value in descending order\n",
    "\n",
    "\n",
    "* Optional: give the displayed data cleaner formatting\n",
    "\n",
    "\n",
    "* Display a preview of the data frame\n",
    "\n"
   ]
  },
  {
   "cell_type": "code",
   "execution_count": 17,
   "metadata": {
    "scrolled": true
   },
   "outputs": [
    {
     "data": {
      "text/html": [
       "<style  type=\"text/css\" >\n",
       "</style><table id=\"T_ae05ae32_2465_11ea_8517_c4b3018fdad2\" ><thead>    <tr>        <th class=\"blank\" ></th>        <th class=\"blank level0\" ></th>        <th class=\"col_heading level0 col0\" >Purchase Count</th>        <th class=\"col_heading level0 col1\" >Item Price</th>        <th class=\"col_heading level0 col2\" >Total Purchase Value</th>    </tr>    <tr>        <th class=\"index_name level0\" >Item ID</th>        <th class=\"index_name level1\" >Item Name</th>        <th class=\"blank\" ></th>        <th class=\"blank\" ></th>        <th class=\"blank\" ></th>    </tr></thead><tbody>\n",
       "                <tr>\n",
       "                        <th id=\"T_ae05ae32_2465_11ea_8517_c4b3018fdad2level0_row0\" class=\"row_heading level0 row0\" >178</th>\n",
       "                        <th id=\"T_ae05ae32_2465_11ea_8517_c4b3018fdad2level1_row0\" class=\"row_heading level1 row0\" >Oathbreaker, Last Hope of the Breaking Storm</th>\n",
       "                        <td id=\"T_ae05ae32_2465_11ea_8517_c4b3018fdad2row0_col0\" class=\"data row0 col0\" >12</td>\n",
       "                        <td id=\"T_ae05ae32_2465_11ea_8517_c4b3018fdad2row0_col1\" class=\"data row0 col1\" >$4.23</td>\n",
       "                        <td id=\"T_ae05ae32_2465_11ea_8517_c4b3018fdad2row0_col2\" class=\"data row0 col2\" >$50.76</td>\n",
       "            </tr>\n",
       "            <tr>\n",
       "                        <th id=\"T_ae05ae32_2465_11ea_8517_c4b3018fdad2level0_row1\" class=\"row_heading level0 row1\" >82</th>\n",
       "                        <th id=\"T_ae05ae32_2465_11ea_8517_c4b3018fdad2level1_row1\" class=\"row_heading level1 row1\" >Nirvana</th>\n",
       "                        <td id=\"T_ae05ae32_2465_11ea_8517_c4b3018fdad2row1_col0\" class=\"data row1 col0\" >9</td>\n",
       "                        <td id=\"T_ae05ae32_2465_11ea_8517_c4b3018fdad2row1_col1\" class=\"data row1 col1\" >$4.90</td>\n",
       "                        <td id=\"T_ae05ae32_2465_11ea_8517_c4b3018fdad2row1_col2\" class=\"data row1 col2\" >$44.10</td>\n",
       "            </tr>\n",
       "            <tr>\n",
       "                        <th id=\"T_ae05ae32_2465_11ea_8517_c4b3018fdad2level0_row2\" class=\"row_heading level0 row2\" >145</th>\n",
       "                        <th id=\"T_ae05ae32_2465_11ea_8517_c4b3018fdad2level1_row2\" class=\"row_heading level1 row2\" >Fiery Glass Crusader</th>\n",
       "                        <td id=\"T_ae05ae32_2465_11ea_8517_c4b3018fdad2row2_col0\" class=\"data row2 col0\" >9</td>\n",
       "                        <td id=\"T_ae05ae32_2465_11ea_8517_c4b3018fdad2row2_col1\" class=\"data row2 col1\" >$4.58</td>\n",
       "                        <td id=\"T_ae05ae32_2465_11ea_8517_c4b3018fdad2row2_col2\" class=\"data row2 col2\" >$41.22</td>\n",
       "            </tr>\n",
       "            <tr>\n",
       "                        <th id=\"T_ae05ae32_2465_11ea_8517_c4b3018fdad2level0_row3\" class=\"row_heading level0 row3\" >92</th>\n",
       "                        <th id=\"T_ae05ae32_2465_11ea_8517_c4b3018fdad2level1_row3\" class=\"row_heading level1 row3\" >Final Critic</th>\n",
       "                        <td id=\"T_ae05ae32_2465_11ea_8517_c4b3018fdad2row3_col0\" class=\"data row3 col0\" >8</td>\n",
       "                        <td id=\"T_ae05ae32_2465_11ea_8517_c4b3018fdad2row3_col1\" class=\"data row3 col1\" >$4.88</td>\n",
       "                        <td id=\"T_ae05ae32_2465_11ea_8517_c4b3018fdad2row3_col2\" class=\"data row3 col2\" >$39.04</td>\n",
       "            </tr>\n",
       "            <tr>\n",
       "                        <th id=\"T_ae05ae32_2465_11ea_8517_c4b3018fdad2level0_row4\" class=\"row_heading level0 row4\" >103</th>\n",
       "                        <th id=\"T_ae05ae32_2465_11ea_8517_c4b3018fdad2level1_row4\" class=\"row_heading level1 row4\" >Singed Scalpel</th>\n",
       "                        <td id=\"T_ae05ae32_2465_11ea_8517_c4b3018fdad2row4_col0\" class=\"data row4 col0\" >8</td>\n",
       "                        <td id=\"T_ae05ae32_2465_11ea_8517_c4b3018fdad2row4_col1\" class=\"data row4 col1\" >$4.35</td>\n",
       "                        <td id=\"T_ae05ae32_2465_11ea_8517_c4b3018fdad2row4_col2\" class=\"data row4 col2\" >$34.80</td>\n",
       "            </tr>\n",
       "    </tbody></table>"
      ],
      "text/plain": [
       "<pandas.io.formats.style.Styler at 0x11a3da950>"
      ]
     },
     "execution_count": 17,
     "metadata": {},
     "output_type": "execute_result"
    }
   ],
   "source": [
    "most_profitable_items = popular_items_df.sort_values([\"Total Purchase Value\"], ascending = False).head()\n",
    "\n",
    "most_profitable_items.style.format({\"Item Price\":\"${:,.2f}\", \"Total Purchase Value\":\"${:,.2f}\"})"
   ]
  },
  {
   "cell_type": "code",
   "execution_count": null,
   "metadata": {},
   "outputs": [],
   "source": []
  }
 ],
 "metadata": {
  "anaconda-cloud": {},
  "kernel_info": {
   "name": "python3"
  },
  "kernelspec": {
   "display_name": "Python 3",
   "language": "python",
   "name": "python3"
  },
  "language_info": {
   "codemirror_mode": {
    "name": "ipython",
    "version": 3
   },
   "file_extension": ".py",
   "mimetype": "text/x-python",
   "name": "python",
   "nbconvert_exporter": "python",
   "pygments_lexer": "ipython3",
   "version": "3.7.4"
  },
  "latex_envs": {
   "LaTeX_envs_menu_present": true,
   "autoclose": false,
   "autocomplete": true,
   "bibliofile": "biblio.bib",
   "cite_by": "apalike",
   "current_citInitial": 1,
   "eqLabelWithNumbers": true,
   "eqNumInitial": 1,
   "hotkeys": {
    "equation": "Ctrl-E",
    "itemize": "Ctrl-I"
   },
   "labels_anchors": false,
   "latex_user_defs": false,
   "report_style_numbering": false,
   "user_envs_cfg": false
  },
  "nteract": {
   "version": "0.2.0"
  }
 },
 "nbformat": 4,
 "nbformat_minor": 2
}
